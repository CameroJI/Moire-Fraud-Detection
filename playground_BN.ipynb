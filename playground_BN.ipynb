{
 "cells": [
  {
   "cell_type": "code",
   "execution_count": 25,
   "metadata": {},
   "outputs": [
    {
     "name": "stdout",
     "output_type": "stream",
     "text": [
      "Found 905 files belonging to 2 classes.\n",
      "Using 724 files for training.\n",
      "Found 905 files belonging to 2 classes.\n",
      "Using 181 files for validation.\n",
      "Epoch 1/15\n",
      "\u001b[1m724/724\u001b[0m \u001b[32m━━━━━━━━━━━━━━━━━━━━\u001b[0m\u001b[37m\u001b[0m \u001b[1m27s\u001b[0m 31ms/step - accuracy: 0.7205 - loss: 2.0585 - val_accuracy: 0.7624 - val_loss: 1.7625\n",
      "Epoch 2/15\n",
      "\u001b[1m724/724\u001b[0m \u001b[32m━━━━━━━━━━━━━━━━━━━━\u001b[0m\u001b[37m\u001b[0m \u001b[1m20s\u001b[0m 28ms/step - accuracy: 0.8299 - loss: 1.2535 - val_accuracy: 0.7680 - val_loss: 1.5929\n",
      "Epoch 3/15\n",
      "\u001b[1m724/724\u001b[0m \u001b[32m━━━━━━━━━━━━━━━━━━━━\u001b[0m\u001b[37m\u001b[0m \u001b[1m20s\u001b[0m 28ms/step - accuracy: 0.8410 - loss: 1.0639 - val_accuracy: 0.7569 - val_loss: 1.4736\n",
      "Epoch 4/15\n",
      "\u001b[1m724/724\u001b[0m \u001b[32m━━━━━━━━━━━━━━━━━━━━\u001b[0m\u001b[37m\u001b[0m \u001b[1m20s\u001b[0m 28ms/step - accuracy: 0.8590 - loss: 0.9281 - val_accuracy: 0.7459 - val_loss: 1.3968\n",
      "Epoch 5/15\n",
      "\u001b[1m724/724\u001b[0m \u001b[32m━━━━━━━━━━━━━━━━━━━━\u001b[0m\u001b[37m\u001b[0m \u001b[1m20s\u001b[0m 28ms/step - accuracy: 0.8664 - loss: 0.8314 - val_accuracy: 0.7459 - val_loss: 1.3129\n",
      "Epoch 6/15\n",
      "\u001b[1m724/724\u001b[0m \u001b[32m━━━━━━━━━━━━━━━━━━━━\u001b[0m\u001b[37m\u001b[0m \u001b[1m20s\u001b[0m 28ms/step - accuracy: 0.8745 - loss: 0.7444 - val_accuracy: 0.7293 - val_loss: 1.2365\n",
      "Epoch 7/15\n",
      "\u001b[1m724/724\u001b[0m \u001b[32m━━━━━━━━━━━━━━━━━━━━\u001b[0m\u001b[37m\u001b[0m \u001b[1m20s\u001b[0m 28ms/step - accuracy: 0.8801 - loss: 0.6848 - val_accuracy: 0.7514 - val_loss: 1.1983\n",
      "Epoch 8/15\n",
      "\u001b[1m724/724\u001b[0m \u001b[32m━━━━━━━━━━━━━━━━━━━━\u001b[0m\u001b[37m\u001b[0m \u001b[1m20s\u001b[0m 28ms/step - accuracy: 0.8859 - loss: 0.6308 - val_accuracy: 0.7680 - val_loss: 1.1553\n",
      "Epoch 9/15\n",
      "\u001b[1m724/724\u001b[0m \u001b[32m━━━━━━━━━━━━━━━━━━━━\u001b[0m\u001b[37m\u001b[0m \u001b[1m20s\u001b[0m 28ms/step - accuracy: 0.8979 - loss: 0.5714 - val_accuracy: 0.7680 - val_loss: 1.1160\n",
      "Epoch 10/15\n",
      "\u001b[1m724/724\u001b[0m \u001b[32m━━━━━━━━━━━━━━━━━━━━\u001b[0m\u001b[37m\u001b[0m \u001b[1m20s\u001b[0m 28ms/step - accuracy: 0.9068 - loss: 0.5184 - val_accuracy: 0.7624 - val_loss: 1.0960\n",
      "Epoch 11/15\n",
      "\u001b[1m724/724\u001b[0m \u001b[32m━━━━━━━━━━━━━━━━━━━━\u001b[0m\u001b[37m\u001b[0m \u001b[1m20s\u001b[0m 28ms/step - accuracy: 0.9086 - loss: 0.4806 - val_accuracy: 0.7569 - val_loss: 1.0960\n",
      "Epoch 12/15\n",
      "\u001b[1m724/724\u001b[0m \u001b[32m━━━━━━━━━━━━━━━━━━━━\u001b[0m\u001b[37m\u001b[0m \u001b[1m20s\u001b[0m 28ms/step - accuracy: 0.9108 - loss: 0.4379 - val_accuracy: 0.7680 - val_loss: 1.0781\n",
      "Epoch 13/15\n",
      "\u001b[1m724/724\u001b[0m \u001b[32m━━━━━━━━━━━━━━━━━━━━\u001b[0m\u001b[37m\u001b[0m \u001b[1m20s\u001b[0m 28ms/step - accuracy: 0.9117 - loss: 0.3993 - val_accuracy: 0.7845 - val_loss: 1.0565\n",
      "Epoch 14/15\n",
      "\u001b[1m724/724\u001b[0m \u001b[32m━━━━━━━━━━━━━━━━━━━━\u001b[0m\u001b[37m\u001b[0m \u001b[1m20s\u001b[0m 28ms/step - accuracy: 0.9178 - loss: 0.3586 - val_accuracy: 0.7790 - val_loss: 1.0519\n",
      "Epoch 15/15\n",
      "\u001b[1m724/724\u001b[0m \u001b[32m━━━━━━━━━━━━━━━━━━━━\u001b[0m\u001b[37m\u001b[0m \u001b[1m20s\u001b[0m 28ms/step - accuracy: 0.9227 - loss: 0.3229 - val_accuracy: 0.7845 - val_loss: 1.0457\n"
     ]
    },
    {
     "data": {
      "text/plain": [
       "<keras.src.callbacks.history.History at 0x372aa4f70>"
      ]
     },
     "execution_count": 25,
     "metadata": {},
     "output_type": "execute_result"
    }
   ],
   "source": [
    "import tensorflow as tf\n",
    "from tensorflow.keras import layers, models\n",
    "from keras.models import load_model # type: ignore\n",
    "from tensorflow.keras.applications import MobileNetV3Small\n",
    "\n",
    "# input_shape = (64, 64, 3)\n",
    "\n",
    "# base_model = MobileNetV3Small(weights='imagenet', include_top=False, input_shape=input_shape)\n",
    "# base_model.trainable = False\n",
    "\n",
    "# model = models.Sequential([\n",
    "#     base_model,\n",
    "#     layers.GlobalAveragePooling2D(),\n",
    "#     layers.Dense(1, activation='sigmoid')\n",
    "# ])\n",
    "\n",
    "model = load_model('/Users/jorgecamero/Downloads/modelo_BN.keras')\n",
    "\n",
    "dataset_dir = \"/Users/jorgecamero/MoireDataset/BN_aug\"\n",
    "\n",
    "def preprocess(image, label):\n",
    "    image = tf.cast(image, tf.float32) / 255.0\n",
    "    return image, label\n",
    "\n",
    "train_data = tf.keras.preprocessing.image_dataset_from_directory(\n",
    "    dataset_dir,\n",
    "    labels=\"inferred\",\n",
    "    label_mode=\"int\",\n",
    "    class_names=[\"Reales_aug\", \"Ataque_aug\"],\n",
    "    batch_size=1,\n",
    "    image_size=(64, 64),\n",
    "    validation_split=0.2,\n",
    "    subset=\"training\",\n",
    "    seed=123,\n",
    "    shuffle=True\n",
    ").map(preprocess)\n",
    "\n",
    "val_data = tf.keras.preprocessing.image_dataset_from_directory(\n",
    "    dataset_dir,\n",
    "    labels=\"inferred\",\n",
    "    label_mode=\"int\",\n",
    "    class_names=[\"Reales_aug\", \"Ataque_aug\"],\n",
    "    batch_size=1,\n",
    "    image_size=(64, 64),\n",
    "    validation_split=0.2,\n",
    "    subset=\"validation\",\n",
    "    seed=123,\n",
    "    shuffle=True\n",
    ").map(preprocess)\n",
    "\n",
    "# Configuración de AdamW con la tasa de aprendizaje especificada\n",
    "optimizer = tf.keras.optimizers.AdamW(learning_rate=5e-4)\n",
    "\n",
    "model.compile(optimizer=optimizer, loss='binary_crossentropy', metrics=['accuracy'])\n",
    "\n",
    "model.fit(train_data, epochs=15, validation_data=val_data)"
   ]
  },
  {
   "cell_type": "code",
   "execution_count": 26,
   "metadata": {},
   "outputs": [],
   "source": [
    "model.save(\"/Users/jorgecamero/Downloads/modelo_BN.keras\")"
   ]
  },
  {
   "cell_type": "code",
   "execution_count": 31,
   "metadata": {},
   "outputs": [],
   "source": [
    "from keras.models import load_model # type: ignore\n",
    "\n",
    "model = load_model(\"/Users/jorgecamero/Downloads/modelo_BN.keras\")"
   ]
  },
  {
   "cell_type": "code",
   "execution_count": 3,
   "metadata": {},
   "outputs": [
    {
     "name": "stderr",
     "output_type": "stream",
     "text": [
      "WARNING: All log messages before absl::InitializeLog() is called are written to STDERR\n",
      "I0000 00:00:1730389232.833805 2392063 gl_context.cc:357] GL version: 2.1 (2.1 Metal - 89.3), renderer: Apple M2\n",
      "INFO: Created TensorFlow Lite XNNPACK delegate for CPU.\n",
      "W0000 00:00:1730389232.912329 2397099 inference_feedback_manager.cc:114] Feedback manager requires a model with a single signature inference. Disabling support for feedback tensors.\n"
     ]
    },
    {
     "name": "stdout",
     "output_type": "stream",
     "text": [
      "0.0030084907\n",
      "Color\n"
     ]
    },
    {
     "data": {
      "image/png": "[encoded data removed]",
      "text/plain": [
       "<Figure size 640x480 with 1 Axes>"
      ]
     },
     "metadata": {},
     "output_type": "display_data"
    }
   ],
   "source": [
    "from utils import load_img\n",
    "from tensorflow.keras.preprocessing import image as img_keras\n",
    "import matplotlib.pyplot as plt\n",
    "import numpy as np\n",
    "from PIL import Image\n",
    "import random\n",
    "import os\n",
    "import io\n",
    "\n",
    "path = '/Users/jorgecamero/MoireDataset/BN_aug'\n",
    "folders = [os.path.join(path, folder) for folder in os.listdir(path) if os.path.isdir(os.path.join(path, folder))]\n",
    "random_folder = random.choice(folders)\n",
    "\n",
    "img_list = [os.path.join(random_folder, file) for file in os.listdir(random_folder) if file.lower().endswith(('.jpg', '.png', '.jpeg'))]\n",
    "random_img = random.choice(img_list)\n",
    "\n",
    "# path = '/Users/jorgecamero/Downloads/fwinesfalsas'\n",
    "# imgs = [os.path.join(path, file) for file in os.listdir(path) if file.lower().endswith('.jfif')]\n",
    "\n",
    "# with open(imgs[3], 'rb') as file:\n",
    "#     image = Image.open(file)\n",
    "#     image = image.convert(\"RGB\")\n",
    "\n",
    "# buffer = io.BytesIO()\n",
    "# image.save(buffer, format='JPEG')\n",
    "\n",
    "# buffer.seek(0)\n",
    "# image_jpg = Image.open(buffer)\n",
    "\n",
    "# random_img = np.array(image_jpg)\n",
    "\n",
    "random_img = '/Users/jorgecamero/MoireDataset/BN/Reales/bi1722285173.4460056-2_front_large.jpg'\n",
    "\n",
    "img = load_img(random_img, height=64, width=64)\n",
    "img = img_keras.img_to_array(img) / 255\n",
    "img = np.expand_dims(img, axis=0)\n",
    "prediction = model.predict(img, verbose=False)[0][0]\n",
    "print(prediction)\n",
    "prediction_label = \"Color\" if prediction < 0.5 else \"BN\"\n",
    "\n",
    "print(prediction_label)\n",
    "plt.imshow(load_img(random_img, width=64, height=64))\n",
    "plt.axis('off')\n",
    "plt.show()\n"
   ]
  },
  {
   "cell_type": "code",
   "execution_count": 33,
   "metadata": {},
   "outputs": [
    {
     "name": "stderr",
     "output_type": "stream",
     "text": [
      "Procesando imágenes: 100%|██████████| 83/83 [00:06<00:00, 13.73it/s, Imágenes detectadas=83]\n"
     ]
    }
   ],
   "source": [
    "import os\n",
    "import shutil\n",
    "from tqdm import tqdm\n",
    "from keras.models import load_model # type: ignore\n",
    "from tensorflow.keras.preprocessing import image\n",
    "from IPython.display import clear_output\n",
    "import matplotlib.pyplot as plt\n",
    "\n",
    "#model = load_model('checkpoint/modelo_BN.keras')\n",
    "path = 'detectados'\n",
    "\n",
    "img_list = [os.path.join(path, file) for file in os.listdir(path) if file.lower().endswith(('.jpg', '.png', '.jpeg'))]\n",
    "pause_time = 0.5\n",
    "\n",
    "cnt = 0\n",
    "output_path = \"detectados.csv\"\n",
    "output_dir = \"detectados\"\n",
    "os.makedirs(output_dir, exist_ok=True)\n",
    "\n",
    "with open(output_path, \"w\") as f:\n",
    "    f.write(\"path,score\\n\")\n",
    "    progress_bar = tqdm(img_list, desc=\"Procesando imágenes\")\n",
    "    \n",
    "    for img_path in progress_bar:\n",
    "        img = image.load_img(img_path, target_size=(64, 64))\n",
    "        img = image.img_to_array(img) / 255\n",
    "        img = np.expand_dims(img, axis=0)\n",
    "        prediction = model.predict(img, verbose=False)[0][0]\n",
    "        prediction_bin = 0 if prediction < 0.8 else 1\n",
    "\n",
    "        if prediction_bin:\n",
    "            cnt += 1\n",
    "            #shutil.copyfile(img_path, os.path.join(output_dir, os.path.basename(img_path)))\n",
    "            #f.write(f\"\\\"{img_path}\\\",{1 - prediction}\\n\")  # Agrega el path y el score al archivo\n",
    "            #f.flush()  # Fuerza el guardado inmediato de la línea\n",
    "\n",
    "        progress_bar.set_postfix({'Imágenes detectadas': cnt})\n",
    "        # filename = os.path.basename(img_path)\n",
    "        # plt.imshow(load_img(img_path))\n",
    "        # plt.title(filename)\n",
    "        # plt.axis('off')\n",
    "        # print(prediction)\n",
    "        # plt.draw()\n",
    "        # plt.pause(pause_time)\n",
    "        # clear_output(wait=True)"
   ]
  },
  {
   "cell_type": "code",
   "execution_count": null,
   "metadata": {},
   "outputs": [],
   "source": [
    "from PIL import Image\n",
    "import os\n",
    "\n",
    "# Ruta de la carpeta de origen y la de destino\n",
    "input_folder = '/Users/jorgecamero/MoireDataset/BN_aug/Reales'\n",
    "output_folder = '/Users/jorgecamero/MoireDataset/BN_aug/Ataque'\n",
    "\n",
    "# Crear la carpeta de destino si no existe\n",
    "os.makedirs(output_folder, exist_ok=True)\n",
    "\n",
    "# Iterar sobre cada imagen en la carpeta\n",
    "for filename in os.listdir(input_folder):\n",
    "    if filename.lower().endswith(('.jpg', '.png', '.jpeg')):\n",
    "        img_path = os.path.join(input_folder, filename)\n",
    "        \n",
    "        # Abrir la imagen\n",
    "        img = Image.open(img_path)\n",
    "        \n",
    "        # Convertir a blanco y negro (grayscale)\n",
    "        img_bw = img.convert(\"L\")\n",
    "        \n",
    "        # Convertir la imagen en escala de grises a RGB\n",
    "        img_bw_rgb = img_bw.convert(\"RGB\")\n",
    "        \n",
    "        # Guardar la imagen en la carpeta de destino\n",
    "        img_bw_rgb.save(os.path.join(output_folder, filename))\n",
    "\n",
    "print(\"Conversión completada.\")"
   ]
  }
 ],
 "metadata": {
  "kernelspec": {
   "display_name": "Python 3",
   "language": "python",
   "name": "python3"
  },
  "language_info": {
   "codemirror_mode": {
    "name": "ipython",
    "version": 3
   },
   "file_extension": ".py",
   "mimetype": "text/x-python",
   "name": "python",
   "nbconvert_exporter": "python",
   "pygments_lexer": "ipython3",
   "version": "3.9.7"
  }
 },
 "nbformat": 4,
 "nbformat_minor": 2
}
